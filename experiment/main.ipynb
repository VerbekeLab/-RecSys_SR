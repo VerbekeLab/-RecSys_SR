{
 "cells": [
  {
   "cell_type": "code",
   "execution_count": 2,
   "outputs": [],
   "source": [
    "from experiment import Experiment"
   ],
   "metadata": {
    "collapsed": false,
    "ExecuteTime": {
     "end_time": "2024-02-14T11:29:59.817011600Z",
     "start_time": "2024-02-14T11:29:54.655837400Z"
    }
   },
   "id": "d5fc1744129626e0"
  },
  {
   "cell_type": "code",
   "execution_count": 21,
   "outputs": [],
   "source": [
    "# set directory to local folder\n",
    "#DIR = r'C:\\Users\\...\\...\\CF_SR'\n",
    "DIR = r'C:\\Users\\u0148775\\PycharmProjects\\CF_SR'"
   ],
   "metadata": {
    "collapsed": false,
    "ExecuteTime": {
     "end_time": "2024-02-14T11:43:43.740480400Z",
     "start_time": "2024-02-14T11:43:43.300801200Z"
    }
   },
   "id": "710e0307fc19d1b5"
  },
  {
   "cell_type": "markdown",
   "source": [
    "## MF"
   ],
   "metadata": {
    "collapsed": false
   },
   "id": "774fec252ba00d02"
  },
  {
   "cell_type": "code",
   "execution_count": 37,
   "outputs": [
    {
     "name": "stdout",
     "output_type": "stream",
     "text": [
      "directory: C:\\Users\\u0148775\\PycharmProjects\\CF_SR\n",
      "dataset: 3\n",
      "method: mf\n",
      "nr of employees: 1238\n",
      "nr of jobs: 209\n"
     ]
    },
    {
     "name": "stderr",
     "output_type": "stream",
     "text": [
      "100%|██████████| 96/96 [1:37:23<00:00, 60.87s/it]\n"
     ]
    },
    {
     "name": "stdout",
     "output_type": "stream",
     "text": [
      "optimal hyperparameters:  {'L': 3, 'alpha': 0.001, 'lambda': 0.1, 'steps': 3000}\n"
     ]
    },
    {
     "data": {
      "text/plain": "{'mae': 0.1749,\n 'rmse': 0.2199,\n 'mse': 0.0484,\n 'spcorr': 0.2165,\n 'kendallcorr': 0.3463}"
     },
     "execution_count": 37,
     "metadata": {},
     "output_type": "execute_result"
    }
   ],
   "source": [
    "settings = {\n",
    "    'dataset': 3, # 0, 1, 2, 3\n",
    "    'method': 'mf', # 'mf', 'mfsr', 'svd', 'slopeone', 'knnc', 'knnp', 'knnsmd', 'knnta'\n",
    "    'test_size': 0.25,\n",
    "    'oot': 1,\n",
    "    'oitv': 1,\n",
    "    'load_similarity': True, # If True, load similarity matrix from file, otherwise compute it. Relevant for: mfsr, knnsmd, knnta\n",
    "    'hyperpara_tune': True\n",
    "}\n",
    "experiment_3_mf = Experiment(settings = settings,\n",
    "                             dir = DIR)\n",
    "experiment_3_mf.run()"
   ],
   "metadata": {
    "collapsed": false,
    "ExecuteTime": {
     "end_time": "2024-02-14T14:35:24.149523300Z",
     "start_time": "2024-02-14T12:56:07.396276500Z"
    }
   },
   "id": "bd61a7fa8395f786"
  },
  {
   "cell_type": "markdown",
   "source": [
    "## MFSR"
   ],
   "metadata": {
    "collapsed": false
   },
   "id": "cbf3a7ff193e9972"
  },
  {
   "cell_type": "code",
   "execution_count": 38,
   "outputs": [
    {
     "name": "stdout",
     "output_type": "stream",
     "text": [
      "directory: C:\\Users\\u0148775\\PycharmProjects\\CF_SR\n",
      "dataset: 3\n",
      "method: mfsr\n",
      "nr of employees: 1238\n",
      "nr of jobs: 209\n",
      "Getting optimal hyperparameters with get_optimal_hyperparameters()\n",
      "the stored optimal hyperparameters for dataset 3 and method mfsr are: {'L': 2, 'alpha': 0.001, 'beta': 0.1, 'lambda': 0.02, 'steps': 1000}\n"
     ]
    },
    {
     "name": "stderr",
     "output_type": "stream",
     "text": [
      "                                                   "
     ]
    },
    {
     "name": "stdout",
     "output_type": "stream",
     "text": [
      "optimal hyperparameters:  {'L': 2, 'alpha': 0.001, 'beta': 0.1, 'lambda': 0.02, 'steps': 1000}\n"
     ]
    },
    {
     "name": "stderr",
     "output_type": "stream",
     "text": [
      "\r"
     ]
    },
    {
     "data": {
      "text/plain": "{'mae': 0.1642,\n 'rmse': 0.2013,\n 'mse': 0.0405,\n 'spcorr': 0.1942,\n 'kendallcorr': 0.3867}"
     },
     "execution_count": 38,
     "metadata": {},
     "output_type": "execute_result"
    }
   ],
   "source": [
    "settings = {\n",
    "    'dataset': 3, # 0, 1, 2, 3\n",
    "    'method': 'mfsr', # 'mf', 'mfsr', 'svd', 'slopeone', 'knnc', 'knnp', 'knnsmd', 'knnta'\n",
    "    'test_size': 0.25,\n",
    "    'oot': 1,\n",
    "    'oitv': 1,\n",
    "    'load_similarity': True, # If True, load similarity matrix from file, otherwise compute it. Relevant for: mfsr, knnsmd, knnta\n",
    "    'hyperpara_tune': False  # Takes multiple hours to tune\n",
    "}\n",
    "experiment_3_mfsr = Experiment(settings = settings,\n",
    "                               dir = DIR)\n",
    "experiment_3_mfsr.run()"
   ],
   "metadata": {
    "collapsed": false,
    "ExecuteTime": {
     "end_time": "2024-02-14T14:45:04.935303700Z",
     "start_time": "2024-02-14T14:35:24.152528500Z"
    }
   },
   "id": "1d91523f9c0115e8"
  },
  {
   "cell_type": "markdown",
   "source": [
    "## SVD"
   ],
   "metadata": {
    "collapsed": false
   },
   "id": "420aaa53e637d7"
  },
  {
   "cell_type": "code",
   "execution_count": 33,
   "outputs": [
    {
     "name": "stdout",
     "output_type": "stream",
     "text": [
      "directory: C:\\Users\\u0148775\\PycharmProjects\\CF_SR\n",
      "dataset: 3\n",
      "method: svd\n",
      "nr of employees: 1238\n",
      "nr of jobs: 209\n"
     ]
    },
    {
     "name": "stderr",
     "output_type": "stream",
     "text": [
      "100%|██████████| 300/300 [02:32<00:00,  1.96it/s]\n"
     ]
    },
    {
     "name": "stdout",
     "output_type": "stream",
     "text": [
      "optimal hyperparameters:  {'n_epochs': 1000, 'n_factors': 2, 'reg_pu': 0.001, 'reg_qi': 0.001}\n"
     ]
    },
    {
     "data": {
      "text/plain": "{'mae': 0.1682,\n 'rmse': 0.2115,\n 'mse': 0.0447,\n 'spcorr': 0.1722,\n 'kendallcorr': 0.3456}"
     },
     "execution_count": 33,
     "metadata": {},
     "output_type": "execute_result"
    }
   ],
   "source": [
    "settings = {\n",
    "    'dataset': 3, # 0, 1, 2, 3\n",
    "    'method': 'svd', # 'mf', 'mfsr', 'svd', 'slopeone', 'knnc', 'knnp', 'knnsmd', 'knnta'\n",
    "    'test_size': 0.25,\n",
    "    'oot': 1,\n",
    "    'oitv': 1,\n",
    "    'load_similarity': True, # If True, load similarity matrix from file, otherwise compute it. Relevant for: mfsr, knnsmd, knnta\n",
    "    'hyperpara_tune': True\n",
    "}\n",
    "experiment_3_svd = Experiment(settings = settings,\n",
    "                              dir = DIR)\n",
    "\n",
    "experiment_3_svd.run()"
   ],
   "metadata": {
    "collapsed": false,
    "ExecuteTime": {
     "end_time": "2024-02-14T12:40:46.314135400Z",
     "start_time": "2024-02-14T12:38:09.393895300Z"
    }
   },
   "id": "ab2fc142a94aa7d7"
  },
  {
   "cell_type": "markdown",
   "source": [
    "## SlopeOne"
   ],
   "metadata": {
    "collapsed": false
   },
   "id": "1c47c7046fee073b"
  },
  {
   "cell_type": "code",
   "execution_count": 32,
   "outputs": [
    {
     "name": "stdout",
     "output_type": "stream",
     "text": [
      "directory is set to: C:\\Users\\u0148775\\PycharmProjects\\CF_SR\n",
      "the selected dataset is: 3\n",
      "the selected method is: slopeone\n",
      "the size of the dataframe is: 57948\n",
      "amount of employees: 1238\n",
      "amount of jobs: 209\n"
     ]
    },
    {
     "name": "stderr",
     "output_type": "stream",
     "text": [
      "100%|██████████| 1/1 [00:00<00:00,  8.06it/s]\n"
     ]
    },
    {
     "name": "stdout",
     "output_type": "stream",
     "text": [
      "the optimal hyperparameters are:  {}\n"
     ]
    },
    {
     "data": {
      "text/plain": "{'mae': 0.1739,\n 'rmse': 0.2173,\n 'mse': 0.0472,\n 'spcorr': 0.2265,\n 'kendallcorr': 0.3259}"
     },
     "execution_count": 32,
     "metadata": {},
     "output_type": "execute_result"
    }
   ],
   "source": [
    "settings = {\n",
    "    'dataset': 3, # 0, 1, 2, 3\n",
    "    'method': 'slopeone', # 'mf', 'mfsr', 'svd', 'slopeone', 'knnc', 'knnp', 'knnsmd', 'knnta'\n",
    "    'test_size': 0.25,\n",
    "    'oot': 1,\n",
    "    'oitv': 1,\n",
    "    'load_similarity': True, # If True, load similarity matrix from file, otherwise compute it. Relevant for: mfsr, knnsmd, knnta\n",
    "    'hyperpara_tune': True\n",
    "}\n",
    "\n",
    "experiment_3_slopeone = Experiment(settings = settings,\n",
    "                                   dir = DIR)\n",
    "experiment_3_slopeone.run()"
   ],
   "metadata": {
    "collapsed": false,
    "ExecuteTime": {
     "end_time": "2024-02-14T12:34:36.742769700Z",
     "start_time": "2024-02-14T12:34:33.049015900Z"
    }
   },
   "id": "b180ab3603b6fb92"
  },
  {
   "cell_type": "markdown",
   "source": [
    "## KNN_c"
   ],
   "metadata": {
    "collapsed": false
   },
   "id": "e818ee4831f542e0"
  },
  {
   "cell_type": "code",
   "execution_count": 39,
   "outputs": [
    {
     "name": "stdout",
     "output_type": "stream",
     "text": [
      "directory: C:\\Users\\u0148775\\PycharmProjects\\CF_SR\n",
      "dataset: 3\n",
      "method: knnc\n",
      "nr of employees: 1238\n",
      "nr of jobs: 209\n"
     ]
    },
    {
     "name": "stderr",
     "output_type": "stream",
     "text": [
      "100%|██████████| 15/15 [00:02<00:00,  6.43it/s]\n"
     ]
    },
    {
     "name": "stdout",
     "output_type": "stream",
     "text": [
      "optimal hyperparameters:  {'k': 2, 'min_k': 1}\n"
     ]
    },
    {
     "data": {
      "text/plain": "{'mae': 0.1782,\n 'rmse': 0.217,\n 'mse': 0.0471,\n 'spcorr': -0.0286,\n 'kendallcorr': 0.2533}"
     },
     "execution_count": 39,
     "metadata": {},
     "output_type": "execute_result"
    }
   ],
   "source": [
    "settings = {\n",
    "    'dataset': 3, # 0, 1, 2, 3\n",
    "    'method': 'knnc', # 'mf', 'mfsr', 'svd', 'slopeone', 'knnc', 'knnp', 'knnsmd', 'knnta'\n",
    "    'test_size': 0.25,\n",
    "    'oot': 1,\n",
    "    'oitv': 1,\n",
    "    'load_similarity': True, # If True, load similarity matrix from file, otherwise compute it. Relevant for: mfsr, knnsmd, knnta\n",
    "    'hyperpara_tune': True\n",
    "}\n",
    "\n",
    "experiment_3_knnc = Experiment(settings = settings,\n",
    "                               dir = DIR)\n",
    "experiment_3_knnc.run()"
   ],
   "metadata": {
    "collapsed": false,
    "ExecuteTime": {
     "end_time": "2024-02-14T16:01:46.544516Z",
     "start_time": "2024-02-14T16:01:40.439967900Z"
    }
   },
   "id": "957c1cd04e3bf5e1"
  },
  {
   "cell_type": "markdown",
   "source": [
    "## KNN_p"
   ],
   "metadata": {
    "collapsed": false
   },
   "id": "be7acda6c1940888"
  },
  {
   "cell_type": "code",
   "execution_count": 40,
   "outputs": [
    {
     "name": "stdout",
     "output_type": "stream",
     "text": [
      "directory: C:\\Users\\u0148775\\PycharmProjects\\CF_SR\n",
      "dataset: 3\n",
      "method: knnp\n",
      "nr of employees: 1238\n",
      "nr of jobs: 209\n"
     ]
    },
    {
     "name": "stderr",
     "output_type": "stream",
     "text": [
      "100%|██████████| 15/15 [00:02<00:00,  5.97it/s]\n"
     ]
    },
    {
     "name": "stdout",
     "output_type": "stream",
     "text": [
      "optimal hyperparameters:  {'k': 2, 'min_k': 1}\n"
     ]
    },
    {
     "data": {
      "text/plain": "{'mae': 0.1748,\n 'rmse': 0.2086,\n 'mse': 0.0435,\n 'spcorr': 0.0508,\n 'kendallcorr': 0.2538}"
     },
     "execution_count": 40,
     "metadata": {},
     "output_type": "execute_result"
    }
   ],
   "source": [
    "settings = {\n",
    "    'dataset': 3, # 0, 1, 2, 3\n",
    "    'method': 'knnp', # 'mf', 'mfsr', 'svd', 'slopeone', 'knnc', 'knnp', 'knnsmd', 'knnta'\n",
    "    'test_size': 0.25,\n",
    "    'oot': 1,\n",
    "    'oitv': 1,\n",
    "    'load_similarity': True, # If True, load similarity matrix from file, otherwise compute it. Relevant for: mfsr, knnsmd, knnta\n",
    "    'hyperpara_tune': True\n",
    "}\n",
    "\n",
    "experiment_3_knnp = Experiment(settings = settings,\n",
    "                               dir = DIR)\n",
    "experiment_3_knnp.run()"
   ],
   "metadata": {
    "collapsed": false,
    "ExecuteTime": {
     "end_time": "2024-02-14T16:01:52.703896200Z",
     "start_time": "2024-02-14T16:01:46.547211300Z"
    }
   },
   "id": "ef89cf4102493913"
  },
  {
   "cell_type": "markdown",
   "source": [
    "## KNN_smd"
   ],
   "metadata": {
    "collapsed": false
   },
   "id": "74e88c15cf49ead9"
  },
  {
   "cell_type": "code",
   "execution_count": 27,
   "outputs": [
    {
     "name": "stdout",
     "output_type": "stream",
     "text": [
      "directory is set to: C:\\Users\\u0148775\\PycharmProjects\\CF_SR\n",
      "the selected dataset is: 3\n",
      "the selected method is: knnsmd\n",
      "the size of the dataframe is: 57948\n",
      "amount of employees: 1238\n",
      "amount of jobs: 209\n"
     ]
    },
    {
     "name": "stderr",
     "output_type": "stream",
     "text": [
      "100%|██████████| 5/5 [00:27<00:00,  5.48s/it]\n"
     ]
    },
    {
     "name": "stdout",
     "output_type": "stream",
     "text": [
      "the optimal hyperparameters are:  {'k': 2}\n"
     ]
    },
    {
     "data": {
      "text/plain": "{'mae': 0.1773,\n 'rmse': 0.2218,\n 'mse': 0.0492,\n 'spcorr': 0.2436,\n 'kendallcorr': 0.3727}"
     },
     "execution_count": 27,
     "metadata": {},
     "output_type": "execute_result"
    }
   ],
   "source": [
    "settings = {\n",
    "    'dataset': 3, # 0, 1, 2, 3\n",
    "    'method': 'knnsmd', # 'mf', 'mfsr', 'svd', 'slopeone', 'knnc', 'knnp', 'knnsmd', 'knnta'\n",
    "    'test_size': 0.25,\n",
    "    'oot': 1,\n",
    "    'oitv': 1,\n",
    "    'load_similarity': True, # If True, load similarity matrix from file, otherwise compute it. Relevant for: mfsr, knnsmd, knnta\n",
    "    'hyperpara_tune': True\n",
    "}\n",
    "\n",
    "experiment_3_knnsmd = Experiment(settings = settings,\n",
    "                                 dir=DIR)\n",
    "experiment_3_knnsmd.run()"
   ],
   "metadata": {
    "collapsed": false,
    "ExecuteTime": {
     "end_time": "2024-02-14T11:45:18.649734700Z",
     "start_time": "2024-02-14T11:44:42.234206700Z"
    }
   },
   "id": "a28c288a68ed8efc"
  },
  {
   "cell_type": "markdown",
   "source": [
    "## KNN_ta"
   ],
   "metadata": {
    "collapsed": false
   },
   "id": "77988b0d36dba8e9"
  },
  {
   "cell_type": "code",
   "execution_count": 31,
   "outputs": [
    {
     "name": "stdout",
     "output_type": "stream",
     "text": [
      "directory is set to: C:\\Users\\u0148775\\PycharmProjects\\CF_SR\n",
      "the selected dataset is: 3\n",
      "the selected method is: knnta\n",
      "the size of the dataframe is: 57948\n",
      "amount of employees: 1238\n",
      "amount of jobs: 209\n"
     ]
    },
    {
     "name": "stderr",
     "output_type": "stream",
     "text": [
      "100%|██████████| 5/5 [00:25<00:00,  5.09s/it]\n"
     ]
    },
    {
     "name": "stdout",
     "output_type": "stream",
     "text": [
      "the optimal hyperparameters are:  {'k': 2}\n"
     ]
    },
    {
     "data": {
      "text/plain": "{'mae': 0.1709,\n 'rmse': 0.2143,\n 'mse': 0.0459,\n 'spcorr': 0.2904,\n 'kendallcorr': 0.3636}"
     },
     "execution_count": 31,
     "metadata": {},
     "output_type": "execute_result"
    }
   ],
   "source": [
    "settings = {\n",
    "    'dataset': 3, # 0, 1, 2, 3\n",
    "    'method': 'knnta', # 'mf', 'mfsr', 'svd', 'slopeone', 'knnc', 'knnp', 'knnsmd', 'knnta'\n",
    "    'test_size': 0.25,\n",
    "    'oot': 1,\n",
    "    'oitv': 1,\n",
    "    'load_similarity': True, # If True, load similarity matrix from file, otherwise compute it. Relevant for: mfsr, knnsmd, knnta\n",
    "    'hyperpara_tune': True\n",
    "}\n",
    "\n",
    "experiment_3_knnta = Experiment(settings = settings,\n",
    "                                dir=DIR)\n",
    "experiment_3_knnta.run()"
   ],
   "metadata": {
    "collapsed": false,
    "ExecuteTime": {
     "end_time": "2024-02-14T12:30:48.948503100Z",
     "start_time": "2024-02-14T12:30:15.086570100Z"
    }
   },
   "id": "d30c744d19854819"
  },
  {
   "cell_type": "code",
   "execution_count": null,
   "outputs": [],
   "source": [],
   "metadata": {
    "collapsed": false
   },
   "id": "bdd80923fb92e829"
  }
 ],
 "metadata": {
  "kernelspec": {
   "display_name": "Python 3",
   "language": "python",
   "name": "python3"
  },
  "language_info": {
   "codemirror_mode": {
    "name": "ipython",
    "version": 2
   },
   "file_extension": ".py",
   "mimetype": "text/x-python",
   "name": "python",
   "nbconvert_exporter": "python",
   "pygments_lexer": "ipython2",
   "version": "2.7.6"
  }
 },
 "nbformat": 4,
 "nbformat_minor": 5
}
